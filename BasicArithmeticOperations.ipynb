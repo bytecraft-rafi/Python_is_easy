{
 "cells": [
  {
   "cell_type": "markdown",
   "metadata": {},
   "source": [
    "1. Write a program that asks for two numbers and prints their sum.\n",
    "2. Create a program that asks for three integers and calculates their average.\n",
    "3. Write a program that takes a list of names as input and prints them in reverse order.\n",
    "4. Build a simple calculator that takes two numbers and an operator (+, -, *, /) as inputs and performs the operation.\n",
    "5. Ask the user for their birth year and calculate their age."
   ]
  },
  {
   "cell_type": "code",
   "execution_count": null,
   "metadata": {},
   "outputs": [
    {
     "data": {
      "text/plain": [
       "Traceback (most recent call last):\n",
       "  File \"c:\\Users\\Administrator\\.vscode\\extensions\\ms-python.python-2025.2.0-win32-x64\\python_files\\python_server.py\", line 133, in exec_user_input\n",
       "    retval = callable_(user_input, user_globals)\n",
       "  File \"<string>\", line 1, in <module>\n",
       "TypeError: int() argument must be a string, a bytes-like object or a real number, not 'NoneType'\n",
       "\n"
      ]
     },
     "metadata": {},
     "output_type": "display_data"
    }
   ],
   "source": [
    "num1 = int(input(\"enter number 1 : \"))\n",
    "num2 = int(input(\"enter number 2 : \"))\n",
    "num3 = int(input(\"enter number 3 : \"))\n",
    "\n",
    "total = num1+num2\n",
    "print(f\"sum : {total}\")\n",
    "\n",
    "average = (num1+num2+num3)/3\n",
    "print(f\"avg is : {average}\")"
   ]
  },
  {
   "cell_type": "code",
   "execution_count": null,
   "metadata": {},
   "outputs": [
    {
     "data": {
      "text/plain": [
       "Traceback (most recent call last):\n",
       "  File \"c:\\Users\\Administrator\\.vscode\\extensions\\ms-python.python-2025.2.0-win32-x64\\python_files\\python_server.py\", line 133, in exec_user_input\n",
       "    retval = callable_(user_input, user_globals)\n",
       "  File \"<string>\", line 3, in <module>\n",
       "AttributeError: 'NoneType' object has no attribute 'split'\n",
       "\n"
      ]
     },
     "metadata": {},
     "output_type": "display_data"
    }
   ],
   "source": [
    "#3\n",
    "\n",
    "names = input(\"Enter the names :\").split(\",\")\n",
    "print(\"Original order: \", names)\n",
    "names.reverse()\n",
    "print(\"reversed order: \", names)"
   ]
  }
 ],
 "metadata": {
  "language_info": {
   "name": "python"
  }
 },
 "nbformat": 4,
 "nbformat_minor": 2
}
