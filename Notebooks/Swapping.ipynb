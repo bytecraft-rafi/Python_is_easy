{
 "cells": [
  {
   "cell_type": "code",
   "execution_count": 1,
   "metadata": {},
   "outputs": [
    {
     "name": "stdout",
     "output_type": "stream",
     "text": [
      "10 5\n",
      "6 4\n",
      "3 1\n",
      "12.0 8.0\n",
      "23 20\n"
     ]
    }
   ],
   "source": [
    "#1 using temporary variables \n",
    "\n",
    "a = 5\n",
    "b = 10\n",
    "\n",
    "temp = a\n",
    "a = b \n",
    "b = temp\n",
    "print(a, b) #Uses extra memory for temp\n",
    "\n",
    "#2 pythonic swap using tuple unpacking\n",
    "\n",
    "c = 4\n",
    "d = 6 \n",
    "c,d = d,c # No extra memory needed\n",
    "print(c,d)\n",
    "\n",
    "#3 swpping using aritmetic operations \n",
    "#a Addition & Subtraction\n",
    "e = 1\n",
    "f = 3\n",
    "e = e+f\n",
    "f = e-f\n",
    "e = e-f\n",
    "print(e,f)\n",
    "\n",
    "#b Multiplication & Division\n",
    "g = 8\n",
    "h = 12\n",
    "g = g*h\n",
    "h = g/h\n",
    "g = g/h\n",
    "print(g,h)\n",
    "\n",
    "#bitwise operation\n",
    "\n",
    "i=20\n",
    "j=23\n",
    "\n",
    "i = i^j\n",
    "j = i^j\n",
    "i = i^j\n",
    "\n",
    "print(i,j)\n",
    "\n",
    "\n"
   ]
  }
 ],
 "metadata": {
  "kernelspec": {
   "display_name": "Python 3",
   "language": "python",
   "name": "python3"
  },
  "language_info": {
   "codemirror_mode": {
    "name": "ipython",
    "version": 3
   },
   "file_extension": ".py",
   "mimetype": "text/x-python",
   "name": "python",
   "nbconvert_exporter": "python",
   "pygments_lexer": "ipython3",
   "version": "3.13.0"
  }
 },
 "nbformat": 4,
 "nbformat_minor": 2
}
